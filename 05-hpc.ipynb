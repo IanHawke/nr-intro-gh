{
 "cells": [
  {
   "cell_type": "markdown",
   "metadata": {},
   "source": [
    "# NR and HPC"
   ]
  },
  {
   "cell_type": "markdown",
   "metadata": {},
   "source": [
    "Full nonlinear three dimensional simulations without symmetries are horribly expensive, as the CFL limit means the cost scales as $N^4$. This requires using high performance computing (HPC) resources and more complex numerical methods, particularly mesh refinement.\n",
    "\n",
    "The key aspect of HPC is parallelism: multiple compute *cores* doing calculations at the same time. This breaks the problem into smaller pieces, solved independently, and then recombined. The problem is that the different parts of the problem need to communicate with each other, and this is much (much!) more expensive than the calculations themselves. This is the *communication* bottleneck.\n",
    "\n",
    "For practical purposes, this means that numerical schemes are designed to run on a single *patch* of the mesh. The scheme cannot make any assumptions about how to get data from other patches. It is possible that the zones at the edge of the patch (ghost zones) are filled by the physical boundary conditions (say analytically), or by mesh refinement (say by interpolating from other data), or by data from a different patch on a different core."
   ]
  },
  {
   "cell_type": "markdown",
   "metadata": {},
   "source": [
    "## Classes"
   ]
  },
  {
   "cell_type": "markdown",
   "metadata": {},
   "source": [
    "In computing terms, particularly *object oriented* computing, we have objects or *classes* which collect data and functions that act on that data as a \"single thing\". This helps organize the code and reduces mistakes.\n",
    "\n",
    "A single patch would contain where it sits in the domain, its size, how the boundary zones are filled, and the data itself. The patch could also contain the functions that act on the data, such as the time stepping scheme."
   ]
  },
  {
   "cell_type": "code",
   "execution_count": null,
   "metadata": {},
   "outputs": [],
   "source": [
    "import numpy as np\n",
    "import matplotlib.pyplot as plt\n",
    "import ipympl"
   ]
  },
  {
   "cell_type": "markdown",
   "metadata": {},
   "source": [
    "First define a simple `problem` class. This will contain the number of variables and their names (useful for producing plots), along with the right-hand-side function that defines the evolution of the system. For now, it will contain no additional functions.\n",
    "\n",
    "A python class needs to have an `__init__` function that says how to create an *instance* of the class. In this case it just saves the data on the instance. So, for example, if we were to define an instance of the problem class for advection using\n",
    "```python\n",
    "advection = problem(1, [r\"$q$\"], advection_rhs)\n",
    "```\n",
    "then we could access the number of variables with `advection.nv`."
   ]
  },
  {
   "cell_type": "code",
   "execution_count": null,
   "metadata": {},
   "outputs": [],
   "source": [
    "class problem(object):\n",
    "    def __init__(self, nv, names, rhs):\n",
    "        self.nv = nv\n",
    "        self.names = names\n",
    "        self.rhs = rhs\n"
   ]
  },
  {
   "cell_type": "markdown",
   "metadata": {},
   "source": [
    "Now we can define a `patch` class. This will be much more complex. It will store the `problem` being solved on the patch, along with information about the size of the patch (number of interior points `nx`, number of ghost zones `ngz`, the location of the left edge of the domain `x0`, and the grid spacing `dx`). It also needs to know what physical boundary conditions are to be applied (here we only consider periodic boundaries).\n",
    "\n",
    "Finally there is information necessary for mesh refinement; whether this is a child patch of a `parent` patch, and if so what index of the `parent` patch is linked to the first (interior) cell of this patch.\n",
    "\n",
    "After initialisation we include some functions (*methods*) that act on a patch. These include a function to explicitly construct the coordinates of the patch (`grid`), functions to apply physical and mesh refinement boundary conditions, a function that applies a single step of Euler's method to update the data, and a simple function that plots the data on the patch."
   ]
  },
  {
   "cell_type": "code",
   "execution_count": null,
   "metadata": {},
   "outputs": [],
   "source": [
    "\n",
    "class patch(object):\n",
    "    def __init__(self, problem, nx, ngz, x0, dx, bcs, parent, parent_i_start):\n",
    "        self.problem = problem\n",
    "        self.nx = nx\n",
    "        self.ngz = ngz\n",
    "        if bcs == \"Periodic\":\n",
    "            self.bcs = self.bcs_periodic\n",
    "        else:\n",
    "            raise NotImplementedError(f\"Boundary condition {bcs} not implemented\")\n",
    "        self.x0 = x0\n",
    "        self.dx = dx\n",
    "        self.parent = parent\n",
    "        self.parent_i_start = parent_i_start\n",
    "        self.data = np.zeros((problem.nv, nx+2*ngz))\n",
    "\n",
    "    def grid(self):\n",
    "        return np.linspace(self.x0-(self.ngz-0.5)*self.dx, self.x0+(self.nx+self.ngz-0.5)*self.dx, self.nx+2*self.ngz)\n",
    "    \n",
    "    def bcs_periodic(self):\n",
    "        self.data[:, :self.ngz] = self.data[:, -2*self.ngz:-self.ngz]\n",
    "        self.data[:, -self.ngz:] = self.data[:, self.ngz:2*self.ngz]\n",
    "        return self.data\n",
    "    \n",
    "    def bcs_mr(self):\n",
    "        i_s = self.parent_i_start\n",
    "        i_e = self.parent_i_start + self.ngz//2\n",
    "        for i in range(self.ngz//2):\n",
    "            self.data[:, 2*i  ] = 0.25*(self.parent.data[:, i_s-2] + 3*self.parent.data[:, i_s-1])\n",
    "            self.data[:, 2*i+1] = 0.25*(3*self.parent.data[:, i_s-1] + self.parent.data[:, i_s])\n",
    "            self.data[:, -2*i-1] = 0.25*(3*self.parent.data[:, i_e+1] + self.parent.data[:, i_e+2])\n",
    "            self.data[:, -2*i-2] = 0.25*(self.parent.data[:, i_e] + 3*self.parent.data[:, i_e+1])\n",
    "        return self.data\n",
    "    \n",
    "    def restrict_interior(self):\n",
    "        if self.parent is None:\n",
    "            return\n",
    "        for i in range(self.nx//2):\n",
    "            self.parent.data[:, self.parent_i_start+i] = 0.5 * (self.data[:, 2*i+self.ngz] + self.data[:, 2*i+1+self.ngz])\n",
    "\n",
    "    def euler_step(self, dt):\n",
    "        self.data += dt * self.problem.rhs(self.data, self.dx)\n",
    "        if self.parent is None:\n",
    "            self.data = self.bcs()\n",
    "        else:\n",
    "            self.data = self.bcs_mr()\n",
    "    \n",
    "    def plot(self, nvs=None):\n",
    "        if nvs is None:\n",
    "            nvs = range(self.problem.nv)\n",
    "        fig, axes = plt.subplots(len(nvs), 1, sharex=True)\n",
    "        if len(nvs) == 1:\n",
    "            axes = [axes]\n",
    "        for i, ax in enumerate(axes):\n",
    "            ax.plot(self.grid(), self.data[nvs[i], :])\n",
    "            ax.set_ylabel(self.problem.names[nvs[i]])\n",
    "            ax.set_xlim(self.x0, self.x0 + self.dx * self.nx)\n",
    "        axes[-1].set_xlabel(r'$x$')\n",
    "        fig.tight_layout()\n",
    "        plt.show()"
   ]
  },
  {
   "cell_type": "markdown",
   "metadata": {},
   "source": [
    "Now we can set up and evolve a problem, using advection of a sine wave as an example."
   ]
  },
  {
   "cell_type": "code",
   "execution_count": null,
   "metadata": {},
   "outputs": [],
   "source": [
    "def flux_advection(q):\n",
    "    v = 1.0\n",
    "    return v*q\n",
    "\n",
    "def RHS_advection(q, dx):\n",
    "    dqdt = np.zeros_like(q)\n",
    "    dqdt[0, 1:-1] = -1.0 / (2.0*dx)*(flux_advection(q[0, 2:]) - flux_advection(q[0, :-2]))\n",
    "    return dqdt\n",
    "\n",
    "advection = problem(1, [r'$q$'], RHS_advection)\n",
    "p1 = patch(advection, 100, 1, 0.0, 0.01, \"Periodic\", None, None)\n",
    "x = p1.grid()\n",
    "p1.data[0, :] = np.sin(2.0*np.pi*x)\n",
    "p1.plot()\n",
    "dt = 0.5 * p1.dx\n",
    "t = 0\n",
    "for i in range(10):\n",
    "    t += dt\n",
    "    p1.euler_step(dt)\n",
    "    print(f\"t = {t:.2f}\")\n",
    "p1.plot()"
   ]
  },
  {
   "cell_type": "markdown",
   "metadata": {},
   "source": [
    "## Mesh refinement"
   ]
  },
  {
   "cell_type": "markdown",
   "metadata": {},
   "source": [
    "So far this has added a lot of complexity for no obvious benefit. However, now we can do mesh refinement. \n",
    "\n",
    "One way around the computational cost problem is not to use a uniform grid. By putting grid points only where they are needed (where the solution is changing rapidly), we can reduce the number of grid points needed to get a given accuracy.\n",
    "\n",
    "However, moving individual grid points has its own costs: it reduces accuracy and increases expense. Instead, it is easier to use *multiple* grids with different resolutions, and to move information between them. This is called *mesh refinement*.\n",
    "\n",
    "We could imagine using a coarse grid with $N$ points covering the whole domain, and a fine grid with $N$ points with half the grid spacing covering a region where the solution changes a lot. The *effective resolution* of the interesting part of the domain is then $\\Delta x / 2$, but the total computational cost is $2 N^2 + N^2 = 3 N^2$, rather than $(2 N)^2 = 4 N^2$ (the additional factor 2 in the first case is because the refined grid still has to take $2N$ timesteps due to the CFL limit). In higher dimensions, or with smaller refined grids, or with more refined grids, the savings are even greater.\n",
    "\n",
    "The computational issue as how information is shared between grids. The refined grid needs to get its boundary conditions by interpolating from the fine grid. The coarse grid needs its interior to be updated using the (more accurate) solution from the refined grid.\n",
    "\n",
    "We define three patches with differing grid spacings."
   ]
  },
  {
   "cell_type": "code",
   "execution_count": null,
   "metadata": {},
   "outputs": [],
   "source": [
    "p2 = patch(advection, 100, 1, 0.25, 0.005, \"Periodic\", p1, 26)\n",
    "p3 = patch(advection, 100, 1, 0.375, 0.0025, \"Periodic\", p2, 26)\n",
    "\n",
    "for p in [p1, p2, p3]:\n",
    "    x = p.grid()\n",
    "    p.data[0, :] = np.exp(-1000*(x-0.5)**2)\n",
    "    p.plot()\n",
    "\n",
    "dt = 0.5 * p3.dx\n",
    "t = 0\n",
    "for i in range(10):\n",
    "    t += dt\n",
    "    for p in [p1, p2, p3]:\n",
    "        p.euler_step(dt)\n",
    "    for p in [p3, p2, p1]:\n",
    "        p.restrict_interior()\n",
    "    print(f\"t = {t:.2f}\")\n",
    "\n",
    "for p in [p1, p2, p3]:\n",
    "    p.plot()"
   ]
  },
  {
   "cell_type": "markdown",
   "metadata": {},
   "source": [
    "Then we generalize this approach, defining a class that will evolve arbitrary numbers of grids on arbitrary numbers of levels, and then do a sensible plot of the solution."
   ]
  },
  {
   "cell_type": "code",
   "execution_count": null,
   "metadata": {},
   "outputs": [],
   "source": [
    "class mr_simulation(object):\n",
    "    def __init__(self, problem, base_dx, base_nx, nlevels, x_centres, child_nx):\n",
    "        self.problem = problem\n",
    "        p_base = patch(problem, base_nx, 1, 0.0, base_dx, \"Periodic\", None, None)\n",
    "        levels = [[p_base]]\n",
    "        for i in range(1, nlevels):\n",
    "            dx = base_dx / (2**i)\n",
    "            level = list()\n",
    "            for j, xc in enumerate(x_centres):\n",
    "                p = patch(problem, child_nx, 1, xc-0.5*child_nx*dx, dx, \"Periodic\", levels[i-1][j], \n",
    "                          child_nx//4+1)\n",
    "                level.append(p)\n",
    "            levels.append(level)\n",
    "        self.levels = levels\n",
    "    \n",
    "    def initial_data(self, width=0.03):\n",
    "        for level in self.levels:\n",
    "            for p in level:\n",
    "                x = p.grid()\n",
    "                p.data[0, :] = np.exp(-((x-0.5)/width)**2)\n",
    "\n",
    "    def evolve(self, t_end):\n",
    "        dt = 0.5 * self.levels[-1][0].dx\n",
    "        t = 0\n",
    "        while t < t_end:\n",
    "            t += dt\n",
    "            for level in self.levels:\n",
    "                for p in level:\n",
    "                    p.euler_step(dt)\n",
    "            for level in self.levels[::-1]:\n",
    "                for p in level:\n",
    "                    p.restrict_interior()\n",
    "            # print(f\"t = {t:.2f}\")\n",
    "\n",
    "    def plot(self, nvs=None):\n",
    "        if nvs is None:\n",
    "            nvs = range(self.problem.nv)\n",
    "        fig, axes = plt.subplots(len(nvs), 1, sharex=True)\n",
    "        if len(nvs) == 1:\n",
    "            axes = [axes]\n",
    "        for i, ax in enumerate(axes):\n",
    "            for level in self.levels:\n",
    "                for p in level:\n",
    "                    ax.plot(p.grid(), p.data[nvs[i], :], 'x')\n",
    "            ax.set_ylabel(self.problem.names[nvs[i]])\n",
    "            ax.set_xlim(self.levels[0][0].x0, self.levels[0][0].x0 + self.levels[0][0].dx * self.levels[0][0].nx)\n",
    "        axes[-1].set_xlabel(r'$x$')\n",
    "        fig.tight_layout()\n",
    "        plt.show()"
   ]
  },
  {
   "cell_type": "markdown",
   "metadata": {},
   "source": [
    "Now try the same evolution again:"
   ]
  },
  {
   "cell_type": "code",
   "execution_count": null,
   "metadata": {},
   "outputs": [],
   "source": [
    "mr1 = mr_simulation(advection, 0.01, 100, 3, [0.5], 100)\n",
    "mr1.initial_data(width=0.03)\n",
    "mr1.evolve(0.05)\n",
    "mr1.plot()"
   ]
  },
  {
   "cell_type": "markdown",
   "metadata": {},
   "source": [
    "Now try an evolution with a narrower Gaussian but more refinement levels."
   ]
  },
  {
   "cell_type": "code",
   "execution_count": null,
   "metadata": {},
   "outputs": [],
   "source": [
    "mr2 = mr_simulation(advection, 0.01, 100, 6, [0.5], 100)\n",
    "mr2.initial_data(width=0.005)\n",
    "mr2.evolve(0.0005)\n",
    "mr2.plot()"
   ]
  },
  {
   "cell_type": "markdown",
   "metadata": {},
   "source": [
    "The evolutions have been kept short as there are problems when steep features go through mesh refinement boundaries. This can be dealt with either by using better boundary conditions (*refluxing*), or by moving the meshes (*adaptive mesh refinement*). Both are more complex than this simple example. For single black holes or neutron stars, this level of complexity is enough to get started."
   ]
  }
 ],
 "metadata": {
  "kernelspec": {
   "display_name": "Python 3 (ipykernel)",
   "language": "python",
   "name": "python3"
  },
  "language_info": {
   "codemirror_mode": {
    "name": "ipython",
    "version": 3
   },
   "file_extension": ".py",
   "mimetype": "text/x-python",
   "name": "python",
   "nbconvert_exporter": "python",
   "pygments_lexer": "ipython3",
   "version": "3.13.1"
  }
 },
 "nbformat": 4,
 "nbformat_minor": 4
}
