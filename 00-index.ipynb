{
 "cells": [
  {
   "cell_type": "markdown",
   "id": "ad6126a5",
   "metadata": {},
   "source": [
    "# Introduction to Numerical Relativity"
   ]
  },
  {
   "cell_type": "markdown",
   "id": "f982f634",
   "metadata": {},
   "source": [
    "This is a collection of hands-on coding exercises (in Python) to give some idea of the key problems in numerical relativity, and how to think about the problems that can be solved, and the accuracy of the solutions."
   ]
  },
  {
   "cell_type": "markdown",
   "id": "2e3b9ac6",
   "metadata": {},
   "source": [
    "The [first notebook is `01-vacuum.ipynb`](./01-vacuum.ipynb). This briefly motivates why the scalar wave equation is important for vacuum numerical relativity, then builds up the \"simplest\" techniques for solving it, including\n",
    "\n",
    "* finite differencing;\n",
    "* solving ODEs;\n",
    "* method of lines;\n",
    "* wave equation, evolution and stability."
   ]
  },
  {
   "cell_type": "markdown",
   "id": "57b79507",
   "metadata": {},
   "source": [
    "The [second notebook is `02-odes.ipynb`](./02-odes.ipynb). This first recaps finite differencing for solving ODEs, then introduces different viewpoints. This leads on to two topics,\n",
    "\n",
    "1. stochastic ODEs, linked to uncertainty quantification;\n",
    "2. boundary value problems, and their motivation through locating black hole apparent horizons."
   ]
  },
  {
   "cell_type": "markdown",
   "id": "d6e95a57",
   "metadata": {},
   "source": [
    "The [third notebook is `03-matter.ipynb`](./03-matter.ipynb). After motivating why conservation laws are important, it builds up shock capturing schemes to solve\n",
    "\n",
    "* advection;\n",
    "* Burger's;\n",
    "* special relativistic hydrodynamics."
   ]
  },
  {
   "cell_type": "markdown",
   "id": "34747e69",
   "metadata": {},
   "source": [
    "The [fourth notebook is `04-theory.ipynb`](./04-theory.ipynb). This looks at both stability and accuracy of numerical methods applied to simple equations (mostly advection, although the results can be lifted to other cases). There is much less coding here, with the aim being to produce plots explaining results that can be see \"experimentally\" in earlier notebooks."
   ]
  },
  {
   "cell_type": "markdown",
   "id": "51940ad4",
   "metadata": {},
   "source": [
    "The [fifth notebook is `05-hpc.ipynb`](./05-hpc.ipynb). This is aimed at describing how to think about the data and methods in ways that extend to \"serious\" simulations on large High Performance Computing resources. In particular it talks about patches, parallelism and mesh refinement."
   ]
  },
  {
   "cell_type": "markdown",
   "id": "5c369c56",
   "metadata": {},
   "source": [
    "The [sixth notebook is `06-spectral.ipynb`](./06-spectral.ipynb) which gives a brief introduction to spectral and function basis methods. These have huge efficiency advantages, but are much more difficult to set up."
   ]
  }
 ],
 "metadata": {
  "kernelspec": {
   "display_name": "Python 3 (ipykernel)",
   "language": "python",
   "name": "python3"
  },
  "language_info": {
   "codemirror_mode": {
    "name": "ipython",
    "version": 3
   },
   "file_extension": ".py",
   "mimetype": "text/x-python",
   "name": "python",
   "nbconvert_exporter": "python",
   "pygments_lexer": "ipython3",
   "version": "3.13.1"
  }
 },
 "nbformat": 4,
 "nbformat_minor": 5
}
