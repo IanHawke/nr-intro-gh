{
 "cells": [
  {
   "cell_type": "markdown",
   "metadata": {},
   "source": [
    "# Ordinary Differential Equations"
   ]
  },
  {
   "cell_type": "markdown",
   "metadata": {},
   "source": [
    "The solution of ODEs, particularly as initial value problems, is essential in numerical relativity. We start from finite differencing, where we know that (for example) the forward difference approximation to the first derivative is given by\n",
    "$$\n",
    "\\left. f'_{\\mathrm{FD}} \\right|_{x_i} = \\frac{f(x_{i+\\Delta x}) - f(x_i)}{\\Delta x} + \\mathcal{O}(\\Delta x).\n",
    "$$"
   ]
  },
  {
   "cell_type": "markdown",
   "metadata": {},
   "source": [
    "## Initial Value Problems"
   ]
  },
  {
   "cell_type": "markdown",
   "metadata": {},
   "source": [
    "We focus on the IVP\n",
    "$$\n",
    "\\frac{\\mathrm{d}q}{\\mathrm{d}t} = f(t, q), \\quad q(t=0) = q_0,\n",
    "$$\n",
    "where $q$ is the *state vector* and $f$ is the *right-hand side* function. The solution is a function $q(t)$ that satisfies the ODE and the initial condition.\n",
    "\n",
    "We can use two points of view to get Euler's method for this problem. The first, as seen, is to approximate the derivative at $t=T$ using forward differencing. The second is to integrate the ODE from $t=T$ to $t=T+\\Delta t$, giving\n",
    "$$\n",
    "q(T + \\Delta t) = q(T) + \\int_T^{T+\\Delta t} f(t, q) \\, \\mathrm{d}t.\n",
    "$$\n",
    "We can then approximate the integral in a number of ways. As we assume the solution is known at $t=T$ but not at later times, the most useful approximation is that the integral is approximately equal to $f(T, q(T)) \\Delta t$. Both finite differencing and integration give the same result, which is Euler's method\n",
    "$$\n",
    "q(T + \\Delta t) = q(T) + f(T, q(T)) \\Delta t.\n",
    "$$"
   ]
  },
  {
   "cell_type": "markdown",
   "metadata": {},
   "source": [
    "### Implement and check"
   ]
  },
  {
   "cell_type": "markdown",
   "metadata": {},
   "source": [
    "If we assume that pressure gradients are negligible then the equations of relativistic hydrodynamics can be written (with some choice of units) as\n",
    "$$\n",
    "\\frac{\\mathrm{d}}{\\mathrm{d}t} \\begin{pmatrix} \\varepsilon \\\\ n \\\\ Y \\end{pmatrix} = \\begin{pmatrix} -(\\varepsilon + P) \\theta \\\\ -n \\theta \\\\ -\\tau^{-1} (Y - Y_{\\mathrm{eq}}) \\end{pmatrix}\n",
    "$$\n",
    "where $\\varepsilon$ is the energy density, $n$ is the number density, $Y$ is a species fraction, $\\theta$ is the expansion of the velocity, $P$ is the pressure, $\\tau$ is the reaction timescale, and $Y_{\\mathrm{eq}}$ is the equilibrium value of the species fraction.\n",
    "\n",
    "Assuming that the pressure is given by $P = Y n \\varepsilon$ and $Y_{\\mathrm{eq}} = n / (3 \\varepsilon)$, use Euler's method to solve up to $t=1$ for an expanding fluid where\n",
    "$$\n",
    "\\begin{aligned}\n",
    "n(0) &= 1, \\\\ \\varepsilon(0) &= 1, \\\\ Y(0) &= 1, \\\\ \\theta &= 10^{-1}, \\\\ \\tau &= 10^{-1}.\n",
    "\\end{aligned}\n",
    "$$"
   ]
  },
  {
   "cell_type": "code",
   "execution_count": null,
   "metadata": {},
   "outputs": [],
   "source": [
    "import numpy as np \n",
    "import matplotlib.pyplot as plt\n",
    "import ipympl\n",
    "import tqdm"
   ]
  },
  {
   "cell_type": "code",
   "execution_count": null,
   "metadata": {},
   "outputs": [],
   "source": [
    "tau = 1e-1\n",
    "theta = 1e-1\n",
    "\n",
    "def P(eps, n, Y):\n",
    "    return Y * n * eps\n",
    "\n",
    "def Y_eq(eps, n, Y):\n",
    "    return n / (3 * eps)\n",
    "\n",
    "def rhs(t, q):\n",
    "    eps, n, Y = q\n",
    "    # Add your code for the RHS term here\n",
    "    # replacing the \"raise NotImplementedError\" line.\n",
    "    raise NotImplementedError(\"RHS not implemented yet\")\n",
    "\n",
    "def euler_step(f, t, q, dt):\n",
    "    # Add your code for a single Euler step here\n",
    "    # replacing the \"raise NotImplementedError\" line.\n",
    "    raise NotImplementedError(\"Euler step not implemented yet\")\n",
    "\n",
    "# This evolves forward in time.\n",
    "t, dt = np.linspace(0, 1, 10000, retstep=True)\n",
    "q = np.zeros((len(t), 3))\n",
    "q[0] = np.array([1, 1, 1])\n",
    "for i in range(len(t)-1):\n",
    "    q[i+1] = euler_step(rhs, t[i], q[i], dt)"
   ]
  },
  {
   "cell_type": "code",
   "execution_count": null,
   "metadata": {},
   "outputs": [],
   "source": [
    "names = [r\"$\\varepsilon$\", r\"$n$\", r\"$Y$\"]\n",
    "fig, ax = plt.subplots(1, 3)\n",
    "for i in range(3):\n",
    "    ax[i].plot(t, q[:, i])\n",
    "    ax[i].set_ylabel(names[i])\n",
    "    ax[i].set_xlabel(\"t\")\n",
    "fig.tight_layout()\n",
    "plt.show()"
   ]
  },
  {
   "cell_type": "markdown",
   "metadata": {},
   "source": [
    "See what happens as the relaxation timescale is reduced. You should expect problems if the timescale is too short ($\\tau \\simeq \\Delta t$)."
   ]
  },
  {
   "cell_type": "code",
   "execution_count": null,
   "metadata": {},
   "outputs": [],
   "source": [
    "# Example small value of the timescale\n",
    "tau = 3e-5\n",
    "theta = 1e-1\n",
    "\n",
    "# You should re-implement the RHS to pick up the new timescale\n",
    "def rhs(t, q):\n",
    "    eps, n, Y = q\n",
    "    # Add your code for the RHS term here\n",
    "    # replacing the \"raise NotImplementedError\" line.\n",
    "    raise NotImplementedError(\"RHS not implemented yet\")\n",
    "\n",
    "t, dt = np.linspace(0, 1, 10000, retstep=True)\n",
    "q = np.zeros((len(t), 3))\n",
    "q[0] = np.array([1, 1, 1])\n",
    "for i in range(len(t)-1):\n",
    "    q[i+1] = euler_step(rhs, t[i], q[i], dt)"
   ]
  },
  {
   "cell_type": "code",
   "execution_count": null,
   "metadata": {},
   "outputs": [],
   "source": [
    "# This will plot the results\n",
    "# For small tau, expect it to blow up horribly.\n",
    "names = [r\"$\\varepsilon$\", r\"$n$\", r\"$Y$\"]\n",
    "fig, ax = plt.subplots(1, 3)\n",
    "for i in range(3):\n",
    "    ax[i].plot(t, q[:, i])\n",
    "    ax[i].set_ylabel(names[i])\n",
    "    ax[i].set_xlabel(\"t\")\n",
    "fig.tight_layout()\n",
    "plt.show()"
   ]
  },
  {
   "cell_type": "markdown",
   "metadata": {},
   "source": [
    "## Stochastic DEs"
   ]
  },
  {
   "cell_type": "markdown",
   "metadata": {},
   "source": [
    "Let us assume that the reactions driving the evolution of the species fraction $Y$ are stochastic. We then write the evolution equation as\n",
    "$$\n",
    "\\mathrm{d} Y = -\\tau^{-1} (Y - Y_{\\mathrm{eq}}) \\, \\mathrm{d}t + \\alpha \\tau^{-1/2} (1 - Y_{\\mathrm{eq}}) \\, \\mathrm{d}W,\n",
    "$$\n",
    "where $W$ is a Wiener process. The notation here is a weak form of the equation, so that $\\mathrm{d}W$ is a stochastic increment that is zero on average and has variance $\\mathrm{d}t$. The term $\\alpha$ controls the strength of the noise.\n",
    "\n",
    "The *Euler-Maruyama* method is the stochastic analogue of Euler's method. It is given by (in this case - the extension to more complex SDEs should follow the same pattern)\n",
    "$$\n",
    "Y(T + \\Delta t) = Y(T) - \\tau^{-1} (Y(T) - Y_{\\mathrm{eq}}) \\Delta t + \\alpha \\tau^{-1/2} (1 - Y_{\\mathrm{eq}}) \\Delta W,\n",
    "$$\n",
    "where $\\Delta W$ is a random number drawn from a normal distribution with mean zero and variance $\\Delta t$.\n",
    "\n",
    "An individual evolution of an SDE is not so interesting. What is interesting is the ensemble behaviour. We can use the Euler-Maruyama method to evolve a large number of realisations of the SDE and then look at the ensemble average and variance."
   ]
  },
  {
   "cell_type": "markdown",
   "metadata": {},
   "source": [
    "### Implement and check"
   ]
  },
  {
   "cell_type": "markdown",
   "metadata": {},
   "source": [
    "Using similar parameters to the first example (so $\\tau = 10^{-1}$), with a noise parameter of $\\alpha = 10^{-1}$, look at the behaviour of the stochastic case for a single realization, and for an ensemble of 1000 realizations. You should see that the ensemble average follows the deterministic solution, but that the variance is non-zero."
   ]
  },
  {
   "cell_type": "code",
   "execution_count": null,
   "metadata": {},
   "outputs": [],
   "source": [
    "tau = 1e-1\n",
    "theta = 1e-1\n",
    "alpha = 1e-1\n",
    "\n",
    "def P(eps, n, Y):\n",
    "    return Y * n * eps\n",
    "\n",
    "def Y_eq(eps, n, Y):\n",
    "    return n / (3 * eps)\n",
    "\n",
    "def rhs(t, q):\n",
    "    eps, n, Y = q\n",
    "    return np.array([-(eps+P(eps, n, Y))*theta, -n*theta, -(Y - Y_eq(eps, n, Y))/tau])\n",
    "\n",
    "def rhs_noise(t, q, dt):\n",
    "    eps, n, Y = q\n",
    "    # Add your code for the RHS term here\n",
    "    # replacing the \"raise NotImplementedError\" line.\n",
    "    # To get a normally distributed random variable for delta W\n",
    "    # you can use np.random.normal() scaled by np.sqrt(tau*dt)\n",
    "    raise NotImplementedError(\"RHS not implemented yet\")\n",
    "\n",
    "def euler_maruyama_step(f, t, q, dt):\n",
    "    # Add your code for a single Euler step here\n",
    "    # replacing the \"raise NotImplementedError\" line.\n",
    "    # Remember that there are now two terms!\n",
    "    raise NotImplementedError(\"Euler step not implemented yet\")\n",
    "\n",
    "t, dt = np.linspace(0, 1, 10000, retstep=True)\n",
    "q = np.zeros((len(t), 3))\n",
    "q[0] = np.array([1, 1, 1])\n",
    "for i in range(len(t)-1):\n",
    "    q[i+1] = euler_maruyama_step(rhs, t[i], q[i], dt)"
   ]
  },
  {
   "cell_type": "code",
   "execution_count": null,
   "metadata": {},
   "outputs": [],
   "source": [
    "# Plot a single realization\n",
    "names = [r\"$\\varepsilon$\", r\"$n$\", r\"$Y$\"]\n",
    "fig, ax = plt.subplots(1, 3)\n",
    "for i in range(3):\n",
    "    ax[i].plot(t, q[:, i])\n",
    "    ax[i].set_ylabel(names[i])\n",
    "    ax[i].set_xlabel(\"t\")\n",
    "fig.tight_layout()\n",
    "plt.show()"
   ]
  },
  {
   "cell_type": "code",
   "execution_count": null,
   "metadata": {},
   "outputs": [],
   "source": [
    "# Compute 1000 realizations. Due to the random walk,\n",
    "# each will be different.\n",
    "n_realizations = 1000\n",
    "qs = np.zeros((n_realizations, len(t), 3))\n",
    "qs[:, 0] = np.array([1, 1, 1])\n",
    "for n in tqdm.tqdm(range(n_realizations)):\n",
    "    for i in range(len(t)-1):\n",
    "        qs[n, i+1] = euler_maruyama_step(rhs, t[i], qs[n, i], dt)"
   ]
  },
  {
   "cell_type": "code",
   "execution_count": null,
   "metadata": {},
   "outputs": [],
   "source": [
    "# Plot the means\n",
    "names = [r\"$\\varepsilon$\", r\"$n$\", r\"$Y$\"]\n",
    "fig, ax = plt.subplots(1, 3)\n",
    "for i in range(3):\n",
    "    ax[i].plot(t, np.mean(qs[:,:, i],axis=0))\n",
    "    ax[i].set_ylabel(names[i])\n",
    "    ax[i].set_xlabel(\"t\")\n",
    "fig.tight_layout()\n",
    "plt.show()"
   ]
  },
  {
   "cell_type": "code",
   "execution_count": null,
   "metadata": {},
   "outputs": [],
   "source": [
    "# Plot the variances\n",
    "names = [r\"$\\varepsilon$\", r\"$n$\", r\"$Y$\"]\n",
    "fig, ax = plt.subplots(1, 3)\n",
    "for i in range(3):\n",
    "    ax[i].plot(t, np.var(qs[:,:, i],axis=0))\n",
    "    ax[i].set_ylabel(names[i])\n",
    "    ax[i].set_xlabel(\"t\")\n",
    "fig.tight_layout()\n",
    "plt.show()"
   ]
  },
  {
   "cell_type": "code",
   "execution_count": null,
   "metadata": {},
   "outputs": [],
   "source": [
    "# Plot essentially the range of all results\n",
    "names = [r\"$\\varepsilon$\", r\"$n$\", r\"$Y$\"]\n",
    "fig, ax = plt.subplots(1, 3)\n",
    "for i in range(3):\n",
    "    ax[i].plot(t, np.mean(qs[:,:, i],axis=0))\n",
    "    ax[i].fill_between(t, np.min(qs[:,:, i],axis=0), np.max(qs[:,:, i],axis=0), color='r', alpha=0.2)\n",
    "    ax[i].set_ylabel(names[i])\n",
    "    ax[i].set_xlabel(\"t\")\n",
    "fig.tight_layout()\n",
    "plt.show()"
   ]
  },
  {
   "cell_type": "markdown",
   "metadata": {},
   "source": [
    "## Boundary Value Problems"
   ]
  },
  {
   "cell_type": "markdown",
   "metadata": {},
   "source": [
    "In a BVP, not all of the boundary conditions are imposed at the same point. This often occurs with constraints, or other non-local operations. Therefore these are not often used *for* evolution, but may be needed *during* evolution. Examples include the construction of the initial data, or finding the horizon of a black hole."
   ]
  },
  {
   "cell_type": "markdown",
   "metadata": {},
   "source": [
    "We will look at finding a black hole apparent horizon.\n",
    "\n",
    "The spacetime we're going to look at is simplified:\n",
    "\n",
    "* $3+1$ split (we're looking at one slice, so one instant in \"time\");\n",
    "* axisymmetric (so we can consider only two dimensions in space, using $r, \\theta$);\n",
    "* \"bitant\" or \"reflection\" symmetric (so we only consider $\\theta \\in [0, \\pi/2]$);\n",
    "* all singularities have bare mass $1$;\n",
    "* time-symmetric (the extrinsic curvature vanishes).\n",
    "\n",
    "We then compute the expansion of outgoing null geodesics, and look for where this vanishes. The surface with radius $h(\\theta)$ where this occurs is the apparent horizon. With our assumptions, $h$ obeys the boundary value problem\n",
    "\n",
    "$$\n",
    "  \\frac{d^2 h}{d \\theta^2} = 2 h + \\frac{3}{h} \\left( \\frac{d h}{d \\theta} \\right)^2 + f \\left( \\theta, h, \\frac{d h}{d \\theta} \\right), \\qquad \\frac{d h}{d \\theta} ( \\theta = 0 ) = 0 = \\frac{d h}{d \\theta} ( \\theta = \\pi/2 ).\n",
    "$$"
   ]
  },
  {
   "cell_type": "markdown",
   "metadata": {},
   "source": [
    "The function $f$ encodes the spacetime effects due to the singularities. \n",
    "\n",
    "To solve this problem we convert to *first order form*. Introduce the vector \n",
    "$$\n",
    "  {\\bf H} = \\begin{pmatrix} h \\\\ \\frac{d h}{d \\theta} \\end{pmatrix}.\n",
    "$$\n",
    "Then we have the problem\n",
    "$$\n",
    "  \\frac{d}{d \\theta} {\\bf H} = {\\bf F}({\\bf H}, \\theta) = \\begin{pmatrix} H_2 \\\\ 2 H_1 + \\frac{3}{H_1} H_2^2 + f(\\theta, {\\bf H}) \\end{pmatrix}, \\qquad H_2(\\theta = 0) = 0 = H_2(\\theta = \\pi/2).\n",
    "$$\n",
    "We'll give the entire right-hand-side as code:"
   ]
  },
  {
   "cell_type": "code",
   "execution_count": null,
   "metadata": {},
   "outputs": [],
   "source": [
    "def horizon_RHS(H, theta, z_singularities):\n",
    "    \"\"\"\n",
    "    The RHS function for the apparent horizon problem.\n",
    "    \n",
    "    Parameters\n",
    "    ----------\n",
    "    \n",
    "    H : array\n",
    "        vector [h, dh/dtheta]\n",
    "    theta : double\n",
    "        angle\n",
    "    z_singularities : array\n",
    "        Location of the singularities on the z axis; non-negative\n",
    "    \n",
    "    Returns\n",
    "    -------\n",
    "    \n",
    "    dHdtheta : array\n",
    "        RHS\n",
    "    \"\"\"\n",
    "    \n",
    "    assert(np.all(np.array(z_singularities) >= 0.0)), \"Location of singularities cannot be negative\"\n",
    "    \n",
    "    h = H[0]\n",
    "    dh = H[1]\n",
    "    \n",
    "    psi = 1.0\n",
    "    dpsi_dr = 0.0\n",
    "    dpsi_dtheta = 0.0\n",
    "    for z in z_singularities:\n",
    "        distance = np.sqrt((h*np.sin(theta))**2 + (h*np.cos(theta) - z)**2)\n",
    "        psi += 0.5/distance\n",
    "        dpsi_dr -= 0.5*(h-z*np.cos(theta))/distance**3\n",
    "        dpsi_dtheta -= 0.5**h*z*np.sin(theta)/distance**3\n",
    "        # Apply reflection symmetry\n",
    "        if z > 0.0:\n",
    "            distance = np.sqrt((h*np.sin(theta))**2 + (h*np.cos(theta) + z)**2)\n",
    "            psi += 0.5/distance\n",
    "            dpsi_dr -= 0.5*(h+z*np.cos(theta))/distance**3\n",
    "            dpsi_dtheta += 0.5**h*z*np.sin(theta)/distance**3\n",
    "            \n",
    "\n",
    "    C2 = 1.0 / (1.0 + (dh / h)**2)\n",
    "    # Impose that the term involving cot(theta) vanishes on axis.\n",
    "    if (abs(theta) < 1e-16) or (abs(theta - np.pi) < 1e-16):\n",
    "        cot_theta_dh_C2 = 0.0\n",
    "    else:\n",
    "        cot_theta_dh_C2 = dh / (np.tan(theta) * C2)\n",
    "        \n",
    "    dHdtheta = np.zeros_like(H)\n",
    "    dHdtheta[0] = dh\n",
    "    dHdtheta[1] = 2.0*h - cot_theta_dh_C2 + 4.0*h**2/(psi*C2)*(dpsi_dr - dpsi_dtheta*dh/h**2) + 3.0*dh**2/h\n",
    "    \n",
    "    return dHdtheta"
   ]
  },
  {
   "cell_type": "markdown",
   "metadata": {},
   "source": [
    "### Shooting"
   ]
  },
  {
   "cell_type": "markdown",
   "metadata": {},
   "source": [
    "The boundary conditions tell us the correct value of $H_2$ at $\\theta = 0$. If we knew the correct value of $H_1$ at that point we could solve using a standard IVP solver, like the Euler method above. For example, in the case of a single Schwarzschild black hole the correct value is $H_1 = 1/2$. We can check this:"
   ]
  },
  {
   "cell_type": "code",
   "execution_count": null,
   "metadata": {},
   "outputs": [],
   "source": [
    "# This relies on your euler_step code above!\n",
    "\n",
    "def rhs_schwarzschild(theta, H):\n",
    "    return horizon_RHS(H, theta, [0.0])\n",
    "\n",
    "thetas, dtheta = np.linspace(0, np.pi/2, 1000, retstep=True)\n",
    "Hs = np.zeros((len(thetas), 2))\n",
    "Hs[0] = np.array([0.5, 0])\n",
    "for i in range(len(thetas)-1):\n",
    "    Hs[i+1] = euler_step(rhs_schwarzschild, thetas[i], Hs[i], dtheta)\n"
   ]
  },
  {
   "cell_type": "code",
   "execution_count": null,
   "metadata": {},
   "outputs": [],
   "source": [
    "# Plot the results\n",
    "\n",
    "fig = plt.figure()\n",
    "ax = fig.add_subplot(221)\n",
    "ax.plot(thetas, Hs[:, 0])\n",
    "ax.set_ylabel(r\"$h$\")\n",
    "ax.set_xlabel(r\"$\\theta$\")\n",
    "ax = fig.add_subplot(222)\n",
    "ax.plot(thetas, Hs[:, 1])\n",
    "ax.set_ylabel(r\"$dh/d\\theta$\")\n",
    "ax.set_xlabel(r\"$\\theta$\")\n",
    "ax = fig.add_subplot(223, polar=True)\n",
    "ax.plot(thetas, Hs[:, 0])\n",
    "ax = fig.add_subplot(224, polar=True)\n",
    "ax.plot(thetas, Hs[:, 1])\n",
    "fig.tight_layout()\n",
    "plt.show()"
   ]
  },
  {
   "cell_type": "markdown",
   "metadata": {},
   "source": [
    "This gives us a spherical horizon. However, if we had used a different value for $H_1(\\theta=0)$ we would find that the required boundary condition on $H_2(\\theta = \\pi/2)$ would not be satisfied. Let us check this:"
   ]
  },
  {
   "cell_type": "code",
   "execution_count": null,
   "metadata": {},
   "outputs": [],
   "source": [
    "Hs1 = np.zeros((len(thetas), 2))\n",
    "Hs1[0] = np.array([0.55, 0])\n",
    "Hs2 = np.zeros((len(thetas), 2))\n",
    "Hs2[0] = np.array([0.45, 0])\n",
    "for i in range(len(thetas)-1):\n",
    "    Hs1[i+1] = euler_step(rhs_schwarzschild, thetas[i], Hs1[i], dtheta)\n",
    "    Hs2[i+1] = euler_step(rhs_schwarzschild, thetas[i], Hs2[i], dtheta)"
   ]
  },
  {
   "cell_type": "code",
   "execution_count": null,
   "metadata": {},
   "outputs": [],
   "source": [
    "fig = plt.figure()\n",
    "ax = fig.add_subplot(221)\n",
    "ax.plot(thetas, Hs1[:, 0], color='b')\n",
    "ax.plot(thetas, Hs2[:, 0], color='r')\n",
    "ax.set_ylabel(r\"$h$\")\n",
    "ax.set_xlabel(r\"$\\theta$\")\n",
    "ax = fig.add_subplot(222)\n",
    "ax.plot(thetas, Hs1[:, 1], color='b')\n",
    "ax.plot(thetas, Hs2[:, 1], color='r')\n",
    "ax.set_ylabel(r\"$dh/d\\theta$\")\n",
    "ax.set_xlabel(r\"$\\theta$\")\n",
    "ax = fig.add_subplot(223, polar=True)\n",
    "ax.plot(thetas, Hs1[:, 0], color='b')\n",
    "ax.plot(thetas, Hs2[:, 0], color='r')\n",
    "ax = fig.add_subplot(224, polar=True)\n",
    "ax.plot(thetas, Hs1[:, 1], color='b')\n",
    "ax.plot(thetas, Hs2[:, 1], color='r')\n",
    "fig.tight_layout()\n",
    "plt.show()"
   ]
  },
  {
   "cell_type": "markdown",
   "metadata": {},
   "source": [
    "This gives us the basic idea for the *shooting* method. As we don't know the correct value of $H_1$ at $\\theta = 0$ we can guess a value, solve the IVP, and then check the boundary condition at $\\theta = \\pi/2$. We can then adjust our guess and repeat until we find the correct value. The question is how to adjust our guess."
   ]
  },
  {
   "cell_type": "markdown",
   "metadata": {},
   "source": [
    "#### Bisection"
   ]
  },
  {
   "cell_type": "markdown",
   "metadata": {},
   "source": [
    "There are many different root-finding algorithms, but the simplest is bisection. Here we asssume that we know some guess that is \"too small\", and some guess that is \"too large\". We then take the midpoint of these two guesses and check the boundary condition. If the boundary condition is satisfied then we replace the \"too small\" guess with the midpoint, otherwise we replace the \"too large\" guess. We then repeat until the two guesses are close enough.\n",
    "\n",
    "To make this more precise, in our case we define a function\n",
    "$$\n",
    "G[H_1(0)] = H_2(\\pi/2; H_1(0)) - 0.\n",
    "$$\n",
    "This compares the value of $H_2$ at $\\theta = \\pi/2$, for a given *initial* value of $H_1$ at $\\theta = 0$, with the required value of $0$. We saw above that where the initial value of $H_1$ is too large then $G > 0$, and where the initial value of $H_1$ is too small then $G < 0$. We therefore know that the correct value is somewhere in between. We guess that a better value is the midpoint of the two guesses. If the midpoint gives a value of $G$ that is positive then it forms a new upper bound; otherwise, it forms a lower bound. We then repeat until the bounds are close enough.\n",
    "\n",
    "Here we check this with Schwarzschild, using initial bounds of $0.4$, $0.55$ (so the midpoint does not land precisely on the right answer)."
   ]
  },
  {
   "cell_type": "code",
   "execution_count": null,
   "metadata": {},
   "outputs": [],
   "source": [
    "H1_lo = 0.4\n",
    "H1_hi = 0.55\n",
    "tol = 1e-3\n",
    "# Implement bisection here.\n",
    "# Don't use a function (yet), just a simple loop\n",
    "# Replace the NotImplemented line as usual\n",
    "raise NotImplementedError(\"Bisection not implemented yet\")\n",
    "# Then print the result\n",
    "print(f\"Bisection gives H_1(0) = {(H1_lo + H1_hi)/2} ([{H1_lo}, {H1_hi}])\")"
   ]
  },
  {
   "cell_type": "markdown",
   "metadata": {},
   "source": [
    "### Implement and check"
   ]
  },
  {
   "cell_type": "markdown",
   "metadata": {},
   "source": [
    "We can now solve the binary black hole case. Try putting the singularities at $z = \\pm 0.75$ using `z_singularity = [0.75]`. A good guess for the initial value of the radius is $H_1(0) \\in [1.26, 1.3]$.\n",
    "\n",
    "The final solution can be compared to [this paper](http://arxiv.org/abs/gr-qc/9809004). Symmetry means that the solution for $h$, $H_1$, constructed for $\\theta \\in [0, \\pi/2]$, can be plotted against the three intervals $[\\pi, \\pi/2], [\\pi, 3 \\pi/2]$, and $[2 \\pi, 3 \\pi/2]$ (note the ordering!) to get the full surface."
   ]
  },
  {
   "cell_type": "code",
   "execution_count": null,
   "metadata": {},
   "outputs": [],
   "source": [
    "# The RHS directly uses the given function\n",
    "def rhs_binary(theta, H):\n",
    "    return horizon_RHS(H, theta, [0.75])\n",
    "\n",
    "H1_lo = 1.26\n",
    "H1_hi = 1.3\n",
    "tol = 1e-4\n",
    "# Implement bisection here.\n",
    "# Don't use a function (yet), just a simple loop\n",
    "# Replace the NotImplemented line as usual\n",
    "raise NotImplementedError(\"Bisection not implemented yet\")\n",
    "# Then print the result\n",
    "print(f\"Bisection gives H_1(0) = {(H1_lo + H1_hi)/2} ([{H1_lo}, {H1_hi}])\")"
   ]
  },
  {
   "cell_type": "code",
   "execution_count": null,
   "metadata": {},
   "outputs": [],
   "source": [
    "# Now the result above can be used, alongside euler_step again,\n",
    "# to get the \"true\" horizon\n",
    "thetas, dtheta = np.linspace(0, np.pi/2, 1000, retstep=True)\n",
    "Hs = np.zeros((len(thetas), 2))\n",
    "Hs[0] = np.array([(H1_lo + H1_hi)/2, 0])\n",
    "for i in range(len(thetas)-1):\n",
    "    Hs[i+1] = euler_step(rhs_binary, thetas[i], Hs[i], dtheta)\n",
    "\n",
    "# Plot the result\n",
    "fig = plt.figure()\n",
    "ax = fig.add_subplot(221)\n",
    "ax.plot(thetas, Hs[:, 0])\n",
    "ax.set_ylabel(r\"$h$\")\n",
    "ax.set_xlabel(r\"$\\theta$\")\n",
    "ax = fig.add_subplot(222)\n",
    "ax.plot(thetas, Hs[:, 1])\n",
    "ax.set_ylabel(r\"$dh/d\\theta$\")\n",
    "ax.set_xlabel(r\"$\\theta$\")\n",
    "ax = fig.add_subplot(223, polar=True)\n",
    "ax.plot(thetas, Hs[:, 0])\n",
    "ax = fig.add_subplot(224, polar=True)\n",
    "ax.plot(thetas, Hs[:, 1])\n",
    "fig.tight_layout()\n",
    "plt.show()"
   ]
  },
  {
   "cell_type": "code",
   "execution_count": null,
   "metadata": {},
   "outputs": [],
   "source": [
    "# This produces a plot of the \"full\" horizon using the symmetries.\n",
    "plt.figure()\n",
    "plt.polar(thetas, Hs[:, 0], color='k')\n",
    "plt.polar(2*np.pi-thetas, Hs[:, 0], color='k')\n",
    "plt.polar(np.pi-thetas, Hs[:, 0], color='k')\n",
    "plt.polar(np.pi+thetas, Hs[:, 0], color='k')\n",
    "plt.show()"
   ]
  }
 ],
 "metadata": {
  "kernelspec": {
   "display_name": "Python 3 (ipykernel)",
   "language": "python",
   "name": "python3"
  },
  "language_info": {
   "codemirror_mode": {
    "name": "ipython",
    "version": 3
   },
   "file_extension": ".py",
   "mimetype": "text/x-python",
   "name": "python",
   "nbconvert_exporter": "python",
   "pygments_lexer": "ipython3",
   "version": "3.13.1"
  }
 },
 "nbformat": 4,
 "nbformat_minor": 4
}
