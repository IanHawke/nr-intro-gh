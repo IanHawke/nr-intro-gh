{
 "cells": [
  {
   "cell_type": "markdown",
   "metadata": {},
   "source": [
    "# Numerical Analysis theory"
   ]
  },
  {
   "cell_type": "markdown",
   "metadata": {},
   "source": [
    "We have seen a range of numerical methods, and through their implementations seen some of their properties. Whilst some bits of theory are easy to state (\"high order good, low order bad\"), some require a little more calculation to see clearly."
   ]
  },
  {
   "cell_type": "markdown",
   "metadata": {},
   "source": [
    "## Discrete dispersion relations"
   ]
  },
  {
   "cell_type": "markdown",
   "metadata": {},
   "source": [
    "We noted the CFL limit, that the discrete timestep is limited by the grid spacing and the maximum propagation speed. However, we did not show how to calculate it. Nor did we investigate other aspects of the error. Both can be done - in simple cases! - through dispersion relations.\n",
    "\n",
    "We will focus on the advection equation\n",
    "$$\n",
    "\\partial_t q + \\partial_x (v q) = 0\n",
    "$$\n",
    "and use either the method of lines or the fully discrete method where time is approximated using forward differences and space using backward difference. In this latter case the discrete algorithm is\n",
    "$$\n",
    "q^{n+1}_j = q^n_j - \\frac{v \\Delta t}{\\Delta x} (q^n_j - q^n_{j-1}) \\, ,\n",
    "$$\n",
    "and we will write $\\sigma = v \\Delta t / \\Delta x$ for the *convection number*.\n",
    "\n",
    "We remember that in a dispersion relation we look at how a plane wave propagates, by looking for solutions of the form $q(x, t) = \\exp(i k x - i \\omega t)$. We assume the wavenumber $k$ is real and known, and find the appropriate value of $\\omega$, which is generally complex. If $\\omega$ has positive imaginary part then the solution is unstable. Substituting this into the continuum advection equation gives\n",
    "$$\n",
    "\\omega = v k \\, .\n",
    "$$\n",
    "The solution is purely real, and both the group velocity $\\partial_k \\omega$ and the phase velocity $\\omega / k$ are equal to the advection velocity $v$.\n"
   ]
  },
  {
   "cell_type": "markdown",
   "metadata": {},
   "source": [
    "\n",
    "### Von Neumann stability\n"
   ]
  },
  {
   "cell_type": "markdown",
   "metadata": {},
   "source": [
    "\n",
    "We want to know how the discrete solution behaves, so we substitute in the same ansatz into the discrete algorithm. We find\n",
    "$$\n",
    "\\exp(-i \\omega \\Delta t) = 1 - \\sigma (1 - \\exp(-i k \\Delta x)) \\, .\n",
    "$$\n",
    "As $k$ is real we see that\n",
    "$$\n",
    "\\begin{aligned}\n",
    "\\exp(\\mathrm{Im}(\\omega) \\Delta t) \\cos(\\mathrm{Re}(\\omega) \\Delta t) &= 1 - \\sigma (1 - \\cos(k \\Delta x)) \\, , \\\\\n",
    "\\exp(\\mathrm{Im}(\\omega) \\Delta t) \\sin(\\mathrm{Re}(\\omega) \\Delta t) &= \\sigma \\sin(k \\Delta x) \\, .\n",
    "\\end{aligned}\n",
    "$$\n",
    "We now use the notation $A = \\exp(\\mathrm{Im}(\\omega) \\Delta t)$. This is the *amplification factor*; the amount that a single Fourier mode (with wavenumber $k$) grows by in a single timestep. It follows that\n",
    "$$\n",
    "\\begin{aligned}\n",
    "A^2 &= \\left( (1 - \\sigma) + \\sigma \\cos(k \\Delta x) \\right)^2 + \\sigma^2 \\sin^2(k \\Delta x) \\\\\n",
    "&= (1 - \\sigma)^2 + 2 \\sigma (1 - \\sigma) \\cos(k \\Delta x) + \\sigma^2 \\, .\n",
    "\\end{aligned}\n",
    "$$\n",
    "\n",
    "The limiting cases occur when $\\cos(k \\Delta x) = \\pm 1$. When it is $+1$ we have\n",
    "$$\n",
    "A^2 = 1 .\n",
    "$$\n",
    "The solution neither grows nor decays. However, when the cosine term is $-1$ we have\n",
    "$$\n",
    "A^2 = 1 - 4 \\sigma + 4 \\sigma^2 = (1 - 2 \\sigma)^2 \\, .\n",
    "$$\n",
    "When $\\sigma > 1$ this gives the amplification factor $A > 1$ and hence the solution grows at each timestep, showing an instability. This is precisely the CFL condition.\n",
    "\n",
    "This set of steps is *Von Neumann stability analysis*. It works for linear problems and allows us to look at stability, as with CFL. It also allows us to talk about the *damping* in the solution. We see that the amplitude of the solution will decrease with each timestep by a factor of $A$, which depends on the wavenumber $k$. We can plot this directly.\n",
    "\n",
    "\n",
    "\n",
    "\n"
   ]
  },
  {
   "cell_type": "code",
   "execution_count": null,
   "metadata": {},
   "outputs": [],
   "source": [
    "import numpy as np\n",
    "import matplotlib.pyplot as plt\n",
    "import ipympl"
   ]
  },
  {
   "cell_type": "code",
   "execution_count": null,
   "metadata": {},
   "outputs": [],
   "source": [
    "kdx = np.linspace(1e-10, np.pi-1e-10, 100)\n",
    "plt.figure()\n",
    "for sigma in [0.6, 0.75, 0.9]:\n",
    "    A = np.sqrt(((1-sigma)**2 + 2*sigma*(1-sigma)*np.cos(kdx) + sigma**2))\n",
    "    plt.plot(kdx, A, label=rf'$\\sigma={sigma}$')\n",
    "plt.legend()\n",
    "plt.xlim(0, np.pi)\n",
    "plt.xticks([0, np.pi/2, np.pi], ['0', r'$\\pi/2$', r'$\\pi$'])\n",
    "plt.xlabel(r'$k \\Delta x$')\n",
    "plt.ylabel('$A$')\n",
    "plt.legend()\n",
    "plt.show()"
   ]
  },
  {
   "cell_type": "markdown",
   "metadata": {},
   "source": [
    "We see how the low frequency modes (on the grid) are well captured, but the high frequency modes are damped. This is a general feature of numerical methods. We also see that the closer the timestep is to the stability limit, the less damping there is."
   ]
  },
  {
   "cell_type": "markdown",
   "metadata": {},
   "source": [
    "### Phase errors"
   ]
  },
  {
   "cell_type": "markdown",
   "metadata": {},
   "source": [
    "The true solution to the dispersion relation for the advection equation is $\\omega = v k$. Using the results above we see that the discrete solution is\n",
    "$$\n",
    "\\tan(\\mathrm{Re}(\\omega) \\Delta t) = \\frac{\\sigma \\sin(k \\Delta x)}{1 - \\sigma + \\sigma \\cos(k \\Delta x)} \\, .\n",
    "$$\n",
    "Using $\\sigma = v \\Delta t / \\Delta x$ we can write this as\n",
    "$$\n",
    "\\frac{\\mathrm{Re}(\\omega)}{k} = \\frac{v}{\\sigma k \\Delta x}  \\arctan  \\left\\{ \\frac{\\sigma \\sin(k \\Delta x)}{1 - \\sigma + \\sigma \\cos(k \\Delta x)} \\right\\} \\, .\n",
    "$$\n",
    "Again, we can plot this directly."
   ]
  },
  {
   "cell_type": "code",
   "execution_count": null,
   "metadata": {},
   "outputs": [],
   "source": [
    "v = 1\n",
    "plt.figure()\n",
    "for sigma in [0.6, 0.75, 0.9]:\n",
    "    re_om_k = v / (sigma * kdx) * np.arctan2(sigma*np.sin(kdx), 1-sigma+sigma*np.cos(kdx))\n",
    "    plt.plot(kdx, re_om_k, label=rf'$\\sigma={sigma}$')\n",
    "plt.legend()\n",
    "plt.xlim(0, np.pi)\n",
    "plt.xlabel(r'$k \\Delta x$')\n",
    "plt.ylabel(r'$\\frac{\\mathrm{Re}(\\omega)}{k}$')\n",
    "plt.xticks([0, np.pi/2, np.pi], ['0', r'$\\pi/2$', r'$\\pi$'])\n",
    "plt.show()"
   ]
  },
  {
   "cell_type": "markdown",
   "metadata": {},
   "source": [
    "Again we see that the numerical phase speed is correct at low wavenumbers and improves as the timestep approaches the stability limit. However, high wavenumbers travel *faster* than they should. This is *not* a general feature, even of this method! Let us check what happens with very small timesteps:"
   ]
  },
  {
   "cell_type": "code",
   "execution_count": null,
   "metadata": {},
   "outputs": [],
   "source": [
    "plt.figure()\n",
    "for sigma in [0.1, 0.25, 0.4]:\n",
    "    re_om_k = v / (sigma * kdx) * np.arctan2(sigma*np.sin(kdx), 1-sigma+sigma*np.cos(kdx))\n",
    "    plt.plot(kdx, re_om_k, label=rf'$\\sigma={sigma}$')\n",
    "plt.legend()\n",
    "plt.xlim(0, np.pi)\n",
    "plt.xlabel(r'$k \\Delta x$')\n",
    "plt.ylabel(r'$\\frac{\\mathrm{Re}(\\omega)}{k}$')\n",
    "plt.xticks([0, np.pi/2, np.pi], ['0', r'$\\pi/2$', r'$\\pi$'])\n",
    "plt.show()"
   ]
  },
  {
   "cell_type": "markdown",
   "metadata": {},
   "source": [
    "We see that when the timestep is less than half the stability limit, the higher wavenumbers propagate *slower* than they should. In the limit, grid frequency modes (where $k \\Delta x \\to \\pi$) do not propagate at all.\n",
    "\n",
    "The differing propagation speeds with wavenumber is typically referred to as *dispersion error*. Particularly for gravitational waves it is more concerning than the damping error, particularly for producing template waveforms."
   ]
  },
  {
   "cell_type": "markdown",
   "metadata": {},
   "source": [
    "### Points per wavelength"
   ]
  },
  {
   "cell_type": "markdown",
   "metadata": {},
   "source": [
    "As nonlinear simulations are so expensive, we would like to know before starting how many grid points give us \"good enough\" accuracy. In general the only answer is to try low resolutions that you can easily afford and measure the error. However, a rule of thumb can be found from very simplified calculations.\n",
    "\n",
    "For the advection (or wave) equation, for linear schemes, we can look at how a single Fourier mode behaves. Denote the exact solution as $q(x, t) = \\exp(i k x - i \\omega t)$, and the numerical solution as $q_{\\text{scheme}, \\Delta x}(x, t) = \\exp(i k x - i \\omega_{\\text{scheme}, \\Delta x} t)$. Then the relative error is\n",
    "$$\n",
    "\\mathcal{E}_{\\text{scheme}, \\Delta x} = \\left| \\frac{q_{\\text{scheme}, \\Delta x} - q}{q} \\right|\n",
    "$$\n",
    "which can be approximated, at a fixed time $t=T$, as\n",
    "$$\n",
    "\\mathcal{E}_{\\text{scheme}, \\Delta x} \\simeq \\left| (\\omega - \\omega_{\\text{scheme}, \\Delta x}) T \\right| \\, .\n",
    "$$\n",
    "As we know that the phase velocity is $v = \\omega / k$, we can re-write this as\n",
    "$$\n",
    "\\mathcal{E}_{\\text{scheme}, \\Delta x} \\simeq \\left| k (v - v_{\\text{scheme}, \\Delta x}) T \\right| \\, .\n",
    "$$\n"
   ]
  },
  {
   "cell_type": "markdown",
   "metadata": {},
   "source": [
    "\n",
    "Using the Method of Lines we can typically use methods that minimize the error in time, so we focus on the spatial error. For example, using central differences we have\n",
    "$$\n",
    "\\begin{aligned}\n",
    "&&\\partial_t q_{\\text{2cd}, \\Delta x} &= - i \\omega_{\\text{2cd}, \\Delta x} q \\\\\n",
    "&&&= -v \\partial_x q_{\\text{2cd}, \\Delta x} \\\\\n",
    "&&&\\simeq -\\frac{v q_{\\text{2cd}, \\Delta x}}{2 \\Delta x} \\left( \\exp(i k \\Delta x) - \\exp(-i k \\Delta x) \\right) \\\\\n",
    "&&&= -\\frac{i v q_{\\text{2cd}, \\Delta x}}{\\Delta x} \\sin(k \\Delta x) \\\\\n",
    "\\implies && \\omega_{\\text{2cd}, \\Delta x} &= \\frac{v}{\\Delta x} \\sin(k \\Delta x) \\\\\n",
    "\\implies && v_{\\text{2cd}, \\Delta x} &= v \\frac{\\sin(k \\Delta x)}{k \\Delta x} \\, .\n",
    "\\end{aligned}\n",
    "$$\n",
    "\n",
    "Therefore the phase error is\n",
    "$$\n",
    "\\begin{aligned}\n",
    "\\mathcal{E}_{\\text{2cd}, \\Delta x} & \\simeq \\left| k v \\left(1 - \\frac{\\sin(k \\Delta x)}{k \\Delta x} \\right) T \\right| \\\\\n",
    "&\\simeq k v T \\frac{(k \\Delta x)^2}{6} \\, .\n",
    "\\end{aligned}\n",
    "$$\n"
   ]
  },
  {
   "cell_type": "markdown",
   "metadata": {},
   "source": [
    "Finally, we want to non-dimensionalize the result. We define the number of *points per wavelength* as\n",
    "$$\n",
    "p = \\frac{2 \\pi}{k \\Delta x} \\, ,\n",
    "$$\n",
    "as we are working on a domain of length $L = 2 \\pi$, and the number of *evolution periods* as\n",
    "$$\n",
    "\\nu = \\frac{k v T}{2 \\pi} \\, ,\n",
    "$$\n",
    "in order to get the wave travel time to time $T$. We can then write the error as\n",
    "$$\n",
    "\\mathcal{E}_{\\text{2cd}, \\Delta x} \\simeq \\frac{\\pi \\nu}{3} \\left(\\frac{2 \\pi}{p} \\right)^2 \\, .\n",
    "$$\n",
    "\n",
    "We re-arrange this to give us the actual useful quantity:\n",
    "$$\n",
    "p_{\\text{2cd}} \\gtrsim 2 \\pi \\sqrt{\\frac{\\pi \\nu}{3 \\mathcal{E}_{\\text{2cd}, \\Delta x}}} \\, .\n",
    "$$\n",
    "This is our rule of thumb: the number of points per wavelength required scales as the square root of the number of evolution periods, divided by the (relative) error desired.\n",
    "\n",
    "Check one standard result: the number of points needed for a 10% error over a single evolution period:"
   ]
  },
  {
   "cell_type": "code",
   "execution_count": null,
   "metadata": {},
   "outputs": [],
   "source": [
    "def p2cd(nu, e2cd):\n",
    "    return 2*np.pi*np.sqrt(np.pi*nu/(3*e2cd))\n",
    "\n",
    "e2cd = 0.1\n",
    "nu = 1\n",
    "print(f\"Points needed for {e2cd} error over {nu} evolution periods is {p2cd(nu, e2cd):.1f}\")"
   ]
  },
  {
   "cell_type": "markdown",
   "metadata": {},
   "source": [
    "The fundamental mode of a neutron star is around 3kHz. Assume we want to solve for 10ms, so that $\\nu = 30$. Check how many points per wavelength are needed for a 1% error. Assuming a fundamental mode wavelength of around the size of the neutron star, so $\\sim 25$ km, check that the required grid spacing is $\\sim 70$ m. "
   ]
  },
  {
   "cell_type": "code",
   "execution_count": null,
   "metadata": {},
   "outputs": [],
   "source": [
    "e2cd = 0.01\n",
    "nu = 30\n",
    "p = p2cd(nu, e2cd)\n",
    "print(f\"Points needed for {e2cd} error over {nu} evolution periods is {p:.1f}\")\n",
    "L = 25000\n",
    "dx = L/p\n",
    "print(f\"Assume L of 25km, so dx <= {dx:.2f}m\")"
   ]
  },
  {
   "cell_type": "markdown",
   "metadata": {},
   "source": [
    "Repeat the derivation for fourth order central differencing, where\n",
    "$$\n",
    "\\partial_x q \\simeq \\frac{1}{12 \\Delta x} \\left( -q_{j+2} + 8 q_{j+1} - 8 q_{j-1} + q_{j-2} \\right) \\, .\n",
    "$$\n",
    "Show that\n",
    "$$\n",
    "v_{\\text{4cd}, \\Delta x} = v \\frac{8 \\sin(k \\Delta x) - \\sin(2 k \\Delta x)}{6 k \\Delta x} \\, .\n",
    "$$\n",
    "Use this to show that\n",
    "$$\n",
    "p_{\\text{4cd}} \\gtrsim 2 \\pi \\sqrt[4]{\\frac{\\pi \\nu}{15 \\mathcal{E}_{\\text{4cd}, \\Delta x}}} \\, .\n",
    "$$\n",
    "Check that this means resolving the fundamental mode of a neutron star for 10ms to 1% phase error requires a grid spacing of $\\sim 800$ m."
   ]
  },
  {
   "cell_type": "code",
   "execution_count": null,
   "metadata": {},
   "outputs": [],
   "source": [
    "def p4cd(nu, e4cd):\n",
    "    return 2*np.pi*(np.pi*nu/(15*e4cd))**(0.25)\n",
    "\n",
    "e4cd = 0.01\n",
    "nu = 30\n",
    "p = p4cd(nu, e4cd)\n",
    "print(f\"Points needed for {e4cd} error over {nu} evolution periods is {p:.1f}\")\n",
    "L = 25000\n",
    "dx = L/p\n",
    "print(f\"Assume L of 25km, so dx <= {dx:.2f}m\")"
   ]
  },
  {
   "cell_type": "markdown",
   "metadata": {},
   "source": [
    "Check your other favourite modes and required evolution times."
   ]
  }
 ],
 "metadata": {
  "kernelspec": {
   "display_name": "math-computing",
   "language": "python",
   "name": "python3"
  },
  "language_info": {
   "codemirror_mode": {
    "name": "ipython",
    "version": 3
   },
   "file_extension": ".py",
   "mimetype": "text/x-python",
   "name": "python",
   "nbconvert_exporter": "python",
   "pygments_lexer": "ipython3",
   "version": "3.13.2"
  }
 },
 "nbformat": 4,
 "nbformat_minor": 2
}
