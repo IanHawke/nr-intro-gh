{
 "cells": [
  {
   "cell_type": "markdown",
   "metadata": {},
   "source": [
    "# Matter"
   ]
  },
  {
   "cell_type": "markdown",
   "metadata": {},
   "source": [
    "Matter evolution equations follow from stress energy conservation,\n",
    "$$\n",
    "\\nabla_a T^{ab} = 0,\n",
    "$$\n",
    "combined with any additional constituitive equations (continuity, Maxwell equations, and so on). By contracting with a tetrad vector $e^{(j)}_b$ and using that $\\nabla_a V^a = (-g)^{-1/2} \\partial_a ((-g)^{1/2} V^a)$, we can write stress energy conservation as\n",
    "$$\n",
    "\\partial_a \\left( \\sqrt{-g} e^{(j)}_b T^{ab} \\right) = \\sqrt{-g} T^{ab} \\nabla_a e^{(j)}_b.\n",
    "$$\n",
    "This is a set of *hyperbolic conservation laws*\n",
    "$$\n",
    "\\partial_t \\mathbf{q} + \\partial_j \\mathbf{f}^{(j)}(\\mathbf{q}) = \\mathbf{s},\n",
    "$$\n",
    "where the *conserved* quantities $\\mathbf{q}$ are **roughly** the number density, momentum density, and energy density, the *fluxes* $\\mathbf{f}^{(j)}$ are the corresponding currents, and the *sources* $\\mathbf{s}$ are the right-hand side of the above equation."
   ]
  },
  {
   "cell_type": "markdown",
   "metadata": {},
   "source": [
    "The two prototypical examples of conservation laws are the *advection equation*\n",
    "$$\n",
    "\\partial_t q + \\partial_x (v q) = 0\n",
    "$$\n",
    "where the advection velocity $v$ is constant, and *Burgers equation*\n",
    "$$\n",
    "\\partial_t q + \\partial_x \\left( \\frac{1}{2} q^2 \\right) = 0.\n",
    "$$\n",
    "\n",
    "The *local* behaviour of the solutions can be found by looking at *characteristics*: curves $x(t)$ along which the solution is constant. For the advection equation, characteristics obey $x / t = v$ and so are straight lines. For Burgers equation, characteristics obey $x / t = q$ and so *depend on the data itself*. This means that initial data can see steep gradients smooth out, or steepen until the solution becomes discontinuous. The latter behaviour is called *shock formation*."
   ]
  },
  {
   "cell_type": "markdown",
   "metadata": {},
   "source": [
    "## Finite differencing"
   ]
  },
  {
   "cell_type": "markdown",
   "metadata": {},
   "source": [
    "As with the wave equation we will use central differencing and RK2, with a sine wave initial profile."
   ]
  },
  {
   "cell_type": "code",
   "execution_count": null,
   "metadata": {},
   "outputs": [],
   "source": [
    "import numpy as np\n",
    "import matplotlib.pyplot as plt\n",
    "import ipympl"
   ]
  },
  {
   "cell_type": "code",
   "execution_count": null,
   "metadata": {},
   "outputs": [],
   "source": [
    "def grid(Npoints, xl=-1.0, xr=1.0):\n",
    "    \"\"\"\n",
    "    Npoints is the number of interior points\n",
    "    \"\"\"\n",
    "    \n",
    "    dx = (xr - xl) / Npoints\n",
    "    return dx, np.linspace(xl-dx/2.0, xr+dx/2.0, Npoints+2)\n",
    "\n",
    "def apply_boundaries(q):\n",
    "    \"\"\"\n",
    "    Periodic boundaries\n",
    "    \"\"\"\n",
    "    N = q.shape[1] - 2\n",
    "\n",
    "    q[:, 0] = q[:, N]\n",
    "    q[:, N+1] = q[:, 1]\n",
    "    \n",
    "    return q\n",
    "\n",
    "def RK2_step(q, RHS, apply_boundaries, dt, dx):\n",
    "    \"\"\"\n",
    "    RK2 method\n",
    "    \"\"\"\n",
    "\n",
    "    rhs = RHS(q, dx)\n",
    "    qp = q + dt * rhs\n",
    "    qp = apply_boundaries(qp)\n",
    "    rhs_p = RHS(qp, dx)\n",
    "    qnew = 0.5 * (q + qp + dt * rhs_p)\n",
    "    qnew = apply_boundaries(qnew)\n",
    "\n",
    "    return qnew"
   ]
  },
  {
   "cell_type": "code",
   "execution_count": null,
   "metadata": {},
   "outputs": [],
   "source": [
    "def flux_advection(q):\n",
    "    v = 1.0\n",
    "    return v*q\n",
    "\n",
    "def flux_burgers(q):\n",
    "    return 0.5*q**2\n",
    "\n",
    "def RHS_advection(q, dx):\n",
    "    dqdt = np.zeros_like(q)\n",
    "    dqdt[0, 1:-1] = -1.0 / (2.0*dx)*(flux_advection(q[0, 2:]) - flux_advection(q[0, :-2]))\n",
    "    return dqdt\n",
    "\n",
    "def RHS_burgers(q, dx):\n",
    "    dqdt = np.zeros_like(q)\n",
    "    dqdt[0, 1:-1] = -1.0 / (2.0*dx)*(flux_burgers(q[0, 2:]) - flux_burgers(q[0, :-2]))\n",
    "    return dqdt\n",
    "\n",
    "def initial_data(x):\n",
    "    q = np.zeros((1, x.shape[0]))\n",
    "    q[0, :] = np.sin(np.pi*(x-0.4))\n",
    "    return q"
   ]
  },
  {
   "cell_type": "code",
   "execution_count": null,
   "metadata": {},
   "outputs": [],
   "source": [
    "Npoints = 50\n",
    "dx, x = grid(Npoints)\n",
    "dt = dx / 4\n",
    "q0 = apply_boundaries(initial_data(x))\n",
    "q_advection = apply_boundaries(initial_data(x))\n",
    "q_burgers = apply_boundaries(initial_data(x))\n",
    "Nsteps = int(0.3 / dt)\n",
    "for n in range(Nsteps):\n",
    "    q_advection = RK2_step(q_advection, RHS_advection, apply_boundaries, dt, dx)\n",
    "    q_burgers = RK2_step(q_burgers, RHS_burgers, apply_boundaries, dt, dx)\n",
    "\n",
    "plt.figure()\n",
    "plt.plot(x, q0[0, :], 'b--', label=\"Initial data\")\n",
    "plt.plot(x, q_advection[0, :], 'k-', label=r\"Advection\")\n",
    "plt.plot(x, q_burgers[0, :], 'r-', label=r\"Burgers\")\n",
    "plt.title(\"Time 0.3\")\n",
    "plt.xlabel(r\"$x$\")\n",
    "plt.ylabel(r\"$q$\")\n",
    "plt.xlim(-1, 1)\n",
    "plt.legend()\n",
    "plt.show()"
   ]
  },
  {
   "cell_type": "code",
   "execution_count": null,
   "metadata": {},
   "outputs": [],
   "source": [
    "Npoints = 50\n",
    "dx, x = grid(Npoints)\n",
    "dt = dx / 4\n",
    "q0 = apply_boundaries(initial_data(x))\n",
    "q_advection = apply_boundaries(initial_data(x))\n",
    "q_burgers = apply_boundaries(initial_data(x))\n",
    "Nsteps = int(0.6 / dt)\n",
    "for n in range(Nsteps):\n",
    "    q_advection = RK2_step(q_advection, RHS_advection, apply_boundaries, dt, dx)\n",
    "    q_burgers = RK2_step(q_burgers, RHS_burgers, apply_boundaries, dt, dx)\n",
    "\n",
    "plt.figure()\n",
    "plt.plot(x, q0[0, :], 'b--', label=\"Initial data\")\n",
    "plt.plot(x, q_advection[0, :], 'k-', label=r\"Advection\")\n",
    "plt.plot(x, q_burgers[0, :], 'r-', label=r\"Burgers\")\n",
    "plt.title(\"Time 0.6\")\n",
    "plt.xlabel(r\"$x$\")\n",
    "plt.ylabel(r\"$q$\")\n",
    "plt.xlim(-1, 1)\n",
    "plt.legend()\n",
    "plt.show()"
   ]
  },
  {
   "cell_type": "markdown",
   "metadata": {},
   "source": [
    "We see the expected behaviour *until* the shock forms. The advection solution is the initial data shifted along by the advection velocity. The solution to Burgers equation steepens until the shock forms, at which point the numerical method breaks down. Oscillations appear in the numerical solution.\n",
    "\n",
    "We need to check what happens as resolution is increased."
   ]
  },
  {
   "cell_type": "code",
   "execution_count": null,
   "metadata": {},
   "outputs": [],
   "source": [
    "plt.figure()\n",
    "for Npoints in [100, 200, 400]:\n",
    "    dx, x = grid(Npoints)\n",
    "    dt = dx / 4\n",
    "    q0 = apply_boundaries(initial_data(x))\n",
    "    q_burgers = apply_boundaries(initial_data(x))\n",
    "    Nsteps = int(0.6 / dt)\n",
    "    for n in range(Nsteps):\n",
    "        q_burgers = RK2_step(q_burgers, RHS_burgers, apply_boundaries, dt, dx)\n",
    "\n",
    "    plt.plot(x, q_burgers[0, :], label=rf\"{Npoints} points\")\n",
    "plt.title(\"Time 0.6\")\n",
    "plt.xlabel(r\"$x$\")\n",
    "plt.ylabel(r\"$q$\")\n",
    "plt.xlim(-1, 1)\n",
    "plt.legend()\n",
    "plt.show()"
   ]
  },
  {
   "cell_type": "markdown",
   "metadata": {},
   "source": [
    "The magnitude of the oscillations is not converging with resolution, but the frequency is. This indicates a problem with the numerical method, and often these oscillations will blow up with time."
   ]
  },
  {
   "cell_type": "markdown",
   "metadata": {},
   "source": [
    "## Finite volumes"
   ]
  },
  {
   "cell_type": "markdown",
   "metadata": {},
   "source": [
    "Looking at the original conservation law\n",
    "$$\n",
    "\\partial_t q + \\partial_x f(q) = 0\n",
    "$$\n",
    "we see that it *makes no sense* when $q$ is discontinuous. This *strong form* of the PDE cannot describe shocks. Instead, we consider the spacetime volume $x \\in [x_{i-1/2}, x_{i+1/2}]$ and $t \\in [t^{n}, t^{n+1}]$ and integrate the conservation law over this volume. This gives\n",
    "$$\n",
    "\\int_{x_{i-1/2}}^{x_{i+1/2}} q(x, t^{n+1}) - q(x, t^{n}) + \\int_{t^n}^{t^{n+1}} f(q(x_{i+1/2}, t)) - f(q(x_{i-1/2}, t)) = 0.\n",
    "$$\n",
    "By *defining* appropriate integral average variables we can write this as\n",
    "$$\n",
    "\\hat{q}_i^{n+1} - \\hat{q}_i^n + \\frac{\\Delta t}{\\Delta x} \\left( \\hat{f}_{i+1/2}^{n} - \\hat{f}_{i-1/2}^{n} \\right) = 0.\n",
    "$$\n",
    "In particular, $\\hat{q}$ is spatial average of $q$ over the volume, and $\\hat{f}$ is the time integral of the flux through the spatial boundary of the volume.\n",
    "\n",
    "The crucial point of this *weak form* of the PDE is that there are no derivatives, so  it can handle shocks. It is also immediately set up for a numerical method: we just need to specify how to compute $\\hat{f}(q)$ from the integral averages $\\hat{q}$."
   ]
  },
  {
   "cell_type": "markdown",
   "metadata": {},
   "source": [
    "### Godunov methods"
   ]
  },
  {
   "cell_type": "markdown",
   "metadata": {},
   "source": [
    "The simplest choice is to approximate $q$ as being constant over each cell volume. This means that $\\hat{f}_{i+1/2}$ depends on $\\hat{q}_i$ and $\\hat{q}_{i+1}$, which are constant values. In the case of the advection equation, this can be solved exactly, giving\n",
    "$$\n",
    "\\hat{f}_{i+1/2} = \\begin{cases} f(\\hat{q}_i) & \\text{if } v > 0, \\\\ f(\\hat{q}_{i+1}) & \\text{if } v < 0. \\end{cases}\n",
    "$$\n",
    "In nonlinear cases such as Burger's equation the exact is more complex, so we will use the *approximate* solution given by the *Lax-Friedrichs* flux\n",
    "$$\n",
    "\\hat{f}_{i+1/2} = \\frac{1}{2} \\left( f(\\hat{q}_i) + f(\\hat{q}_{i+1}) \\right) - \\lambda \\left( \\hat{q}_{i+1} - \\hat{q}_i \\right).\n",
    "$$\n",
    "Here $\\lambda$ has to be chosen to be larger than the maximum wave speed in the problem."
   ]
  },
  {
   "cell_type": "markdown",
   "metadata": {},
   "source": [
    "### Implement and check"
   ]
  },
  {
   "cell_type": "markdown",
   "metadata": {},
   "source": [
    "Apply Godunov to the Burger's equation and check how the shock development behaves with increasing resolution."
   ]
  },
  {
   "cell_type": "code",
   "execution_count": null,
   "metadata": {},
   "outputs": [],
   "source": [
    "def lf_flux(qL, qR, lamda):\n",
    "    return 0.5*(flux_burgers(qL) + flux_burgers(qR) - lamda * (qR - qL))\n",
    "\n",
    "def godunov_burgers_step(q, apply_boundaries, dt, dx):\n",
    "    lamda = np.max(q)\n",
    "    qnew = q.copy()\n",
    "    for i in range(1, q.shape[1]-1):\n",
    "        qnew[:, i] = q[:, i] - dt / dx * (lf_flux(q[:, i], q[:, i+1], lamda) - lf_flux(q[:, i-1], q[:, i], lamda))\n",
    "    qnew = apply_boundaries(qnew)\n",
    "    return qnew"
   ]
  },
  {
   "cell_type": "code",
   "execution_count": null,
   "metadata": {},
   "outputs": [],
   "source": [
    "plt.figure()\n",
    "for Npoints in [100, 200, 400]:\n",
    "    dx, x = grid(Npoints)\n",
    "    dt = dx / 4\n",
    "    q0 = apply_boundaries(initial_data(x))\n",
    "    q_burgers = apply_boundaries(initial_data(x))\n",
    "    Nsteps = int(0.6 / dt)\n",
    "    for n in range(Nsteps):\n",
    "        q_burgers = godunov_burgers_step(q_burgers, apply_boundaries, dt, dx)\n",
    "\n",
    "    plt.plot(x, q_burgers[0, :], label=rf\"{Npoints} points\")\n",
    "plt.title(\"Time 0.6\")\n",
    "plt.xlabel(r\"$x$\")\n",
    "plt.ylabel(r\"$q$\")\n",
    "plt.xlim(-1, 1)\n",
    "plt.legend()\n",
    "plt.show()"
   ]
  },
  {
   "cell_type": "markdown",
   "metadata": {},
   "source": [
    "We see that the shock is captured without oscillations, and that the solution converges with resolution."
   ]
  },
  {
   "cell_type": "markdown",
   "metadata": {},
   "source": [
    "# Relativistic hydrodynamics"
   ]
  },
  {
   "cell_type": "markdown",
   "metadata": {},
   "source": [
    "Working with a perfect fluid, the stress energy tensor is\n",
    "$$\n",
    "T^{ab} = \\rho h u^a u^b + p g^{ab},\n",
    "$$\n",
    "where $\\rho$ is the specific rest mass density, $h = 1 + \\epsilon + p / \\rho$ is the specific enthalpy, $\\epsilon$ is the specific internal energy, $u^a$ is the fluid four-velocity, and $p$ is the pressure. The conservation laws follow from the continuity equation ($\\nabla_a (\\rho u^a) = 0$) and stress-energy conservation as above, and can be written (in $1+1$ Minkowski spacetime, using Cartesian coordinates) as\n",
    "$$\n",
    "\\partial_t \\mathbf{q} + \\partial_x \\mathbf{f}(\\mathbf{q}) = \\mathbf{0},\n",
    "$$\n",
    "where\n",
    "$$\n",
    "\\mathbf{q} = \\begin{pmatrix} D \\\\ S \\\\ \\tau \\end{pmatrix} = \\begin{pmatrix} \\rho W \\\\ \\rho h W^2 v \\\\ \\rho h W^2 - p - \\rho W \\end{pmatrix},\n",
    "$$\n",
    "with $W = u^t$ the Lorentz factor, and $v = u^x / u^t$ the fluid 3-velocity, linked by $W = (1 - v^2)^{-1/2}$. The fluxes are\n",
    "$$\n",
    "\\mathbf{f}(\\mathbf{q}) = \\begin{pmatrix} D v \\\\ S v + p \\\\ (\\tau + p) v \\end{pmatrix}.\n",
    "$$\n",
    "The equations are closed by an equation of state that we typically write in the form $p = p(\\rho, \\epsilon)$ or $p = p(\\rho, h)$."
   ]
  },
  {
   "cell_type": "markdown",
   "metadata": {},
   "source": [
    "Before we can apply Godunov-type methods to this system we need three additional pieces of information.\n",
    "\n",
    "First, we need the maximum signal speed $\\lambda$ to complete our Lax-Friedrichs flux. In principle this is the relativistic sound speed. However, this is bounded by the speed of light, so for simplicity we can just set $\\lambda = 1$.\n",
    "\n",
    "Second, we need an equation of state to close the system. Again for simplicity, we will use the ideal gas equation of state $p = (\\Gamma - 1) \\rho \\epsilon$, where $\\Gamma$ is the adiabatic index.\n",
    "\n",
    "Finally, we need to compute the primitive variables $\\rho$, $v$, and $p$ from the conserved variables $\\mathbf{q}$. This is the *conservative to primitive* step, which is annoyingly costly in general. Here we will use a reasonably general approach. First guess the pressure, and denote the guess $\\bar{p}$. Then given the conserved variables, compute\n",
    "$$\n",
    "\\begin{aligned}\n",
    "&& \\frac{S^2}{(\\tau + \\bar{p} + D)^2} &= v^2 \\\\\n",
    "\\implies && W &= (1 - v^2)^{-1/2} \\\\\n",
    "\\implies && \\rho &= D / W \\\\\n",
    "\\implies && h &= \\frac{\\tau + \\bar{p} + D}{\\rho W^2} \\\\\n",
    "\\implies && \\epsilon &= h - 1 - \\bar{p} / \\rho \\, .\n",
    "\\end{aligned}\n",
    "$$\n",
    "Now we can compute the pressure from the equation of state. This pressure can be compared to the guess. We can then use any root-finding algorithm to find the correct pressure (see the use of the bisection method in the horizon-finding section)."
   ]
  },
  {
   "cell_type": "code",
   "execution_count": null,
   "metadata": {},
   "outputs": [],
   "source": [
    "from scipy.optimize import root_scalar\n",
    "\n",
    "def p_eos(rho, epsilon, gamma=1.4):\n",
    "    return (gamma - 1) * rho * epsilon\n",
    "\n",
    "def h_eos(rho, p, gamma=1.4):\n",
    "    return 1 + gamma * p / (rho * (gamma - 1))\n",
    "\n",
    "def c2p_root(pbar, q):\n",
    "    D, S, tau = q\n",
    "    v2 = S**2 / (tau + pbar + D)**2\n",
    "    W = 1.0 / np.sqrt(1.0 - v2)\n",
    "    rho = D / W\n",
    "    h = (tau + pbar + D) / (rho * W**2)\n",
    "    epsilon = h - 1.0 - pbar / rho\n",
    "    return pbar - p_eos(rho, epsilon)\n",
    "\n",
    "def c2p(q):\n",
    "    D, S, tau = q\n",
    "    res = root_scalar(c2p_root, args=(q), bracket=[1.0e-10, 1.0e6])\n",
    "    p = res.root\n",
    "    v2 = S**2 / (tau + p + D)**2\n",
    "    W = 1.0 / np.sqrt(1.0 - v2)\n",
    "    rho = D / W\n",
    "    h = h_eos(rho, p)\n",
    "    v = S / (rho * h * W**2)\n",
    "    return rho, v, p"
   ]
  },
  {
   "cell_type": "code",
   "execution_count": null,
   "metadata": {},
   "outputs": [],
   "source": [
    "def flux_srhd(q, gamma=1.4):\n",
    "    D, S, tau = q\n",
    "    rho, v, p = c2p(q)\n",
    "    h = h_eos(rho, p)\n",
    "    flux = np.zeros_like(q)\n",
    "    flux[0] = D * v\n",
    "    flux[1] = S * v + p\n",
    "    flux[2] = (tau + p) * v\n",
    "    return flux\n",
    "\n",
    "def lf_flux_srhd(qL, qR):\n",
    "    return 0.5*(flux_srhd(qL) + flux_srhd(qR) -  (qR - qL))\n",
    "\n",
    "def godunov_srhd_step(q, apply_boundaries, dt, dx):\n",
    "    qnew = q.copy()\n",
    "    for i in range(1, q.shape[1]-1):\n",
    "        qnew[:, i] = q[:, i] - dt / dx * (lf_flux_srhd(q[:, i], q[:, i+1]) - lf_flux_srhd(q[:, i-1], q[:, i]))\n",
    "    qnew = apply_boundaries(qnew)\n",
    "    return qnew"
   ]
  },
  {
   "cell_type": "code",
   "execution_count": null,
   "metadata": {},
   "outputs": [],
   "source": [
    "def initial_data(x):\n",
    "    rhoL = 1.0\n",
    "    rhoR = 0.125\n",
    "    pL = 1.0\n",
    "    pR = 0.1\n",
    "    hL = h_eos(rhoL, pL)\n",
    "    hR = h_eos(rhoR, pR)\n",
    "    DL = rhoL\n",
    "    DR = rhoR\n",
    "    SL = 0\n",
    "    SR = 0\n",
    "    tauL = rhoL*hL - pL - DL\n",
    "    tauR = rhoR*hR - pR - DR\n",
    "    q = np.zeros((3, len(x)))\n",
    "    for i, xx in enumerate(x):\n",
    "        if xx < 0:\n",
    "            q[:, i] = DL, SL, tauL\n",
    "        else:\n",
    "            q[:, i] = DR, SR, tauR\n",
    "    return q\n",
    "\n",
    "def apply_boundaries(q):\n",
    "    q[:, 0] = q[:, 1]\n",
    "    q[:, -1] = q[:, -2]\n",
    "    return q"
   ]
  },
  {
   "cell_type": "code",
   "execution_count": null,
   "metadata": {},
   "outputs": [],
   "source": [
    "fig, axes = plt.subplots(3, 1, figsize=(8, 12), sharex=True)\n",
    "names = [r\"$D$\", r\"$S$\", r\"$\\tau$\"]\n",
    "for Npoints in [100, 200, 400]:\n",
    "    dx, x = grid(Npoints)\n",
    "    dt = dx / 4\n",
    "    q0 = apply_boundaries(initial_data(x))\n",
    "    q_srhd = apply_boundaries(initial_data(x))\n",
    "    Nsteps = int(0.8 / dt)\n",
    "    for n in range(Nsteps):\n",
    "        q_srhd = godunov_srhd_step(q_srhd, apply_boundaries, dt, dx)\n",
    "\n",
    "    for i, ax in enumerate(axes):\n",
    "        ax.plot(x, q_srhd[i, :], label=rf\"{Npoints} points\")\n",
    "for i, ax in enumerate(axes):\n",
    "    ax.set_ylabel(names[i])\n",
    "    ax.set_xlim(-1, 1)\n",
    "    ax.legend()\n",
    "plt.suptitle(\"Time 0.8\")\n",
    "axes[-1].set_xlabel(r\"$x$\")\n",
    "plt.show()"
   ]
  },
  {
   "cell_type": "markdown",
   "metadata": {},
   "source": [
    "We can see the expected structure of the shock tube: a rarefaction wave on the left, a linear contact discontinuity in the centre (propagating slowly to the right at $x \\sim 0.3$) and a shock wave on the right (at $x \\sim 0.6$).\n",
    "\n",
    "However, all of the waves are smeared out and the improvement with resolution is slow. This is because Godunov's method is only first order accurate. Higher accuracy (*HRSC*) methods are possible, but noteably more complex when discontinuities arise."
   ]
  },
  {
   "cell_type": "markdown",
   "metadata": {},
   "source": [
    "## Conditioning"
   ]
  },
  {
   "cell_type": "markdown",
   "metadata": {},
   "source": [
    "One key question is the accuracy of the steps taken. Usually we expect any one single step in the calculation to be inaccurate either at the level of floating point accuracy (numbers can only be stored with a certain precision, typically 16 significant figures) or truncation accuracy (for example, approximations to derivatives have larger errors, depending on the grid size). We then typically expect errors to roughly add up in magnitude, slowly degrading the accuracy of the final result.\n",
    "\n",
    "However, sometimes things are *much worse* than this. Individual operations can hugely magnify errors, rather than just making them add up.\n",
    "\n",
    "Consider the linear system\n",
    "$$\n",
    "\\begin{pmatrix} \\varepsilon & 1 \\\\ 1 & 1 \\end{pmatrix} \\mathbf{x} = \\begin{pmatrix} 1 + \\varepsilon \\\\ 2 \\end{pmatrix} \\, .\n",
    "$$\n",
    "This clearly has the solution $\\mathbf{x} = (1, 1)^T$. However, let us solve it *assuming* that $\\varepsilon$ is small enough so that, in floating point precision, $1 + \\varepsilon \\to 1$. Using Gaussian Elimination we subtract $\\varepsilon^{-1}$ times the first row of the system from the second, and rescale the first row as well, giving\n",
    "$$\n",
    "\\begin{pmatrix} 1 & \\varepsilon^{-1} \\\\ 0 & - \\varepsilon^{-1} \\end{pmatrix} \\mathbf{x} = \\begin{pmatrix} \\varepsilon^{-1} \\\\ - \\varepsilon^{-1} \\end{pmatrix} \\, .\n",
    "$$\n",
    "Solving via back-substitution gives $x_2 = 1$ and $x_1 + \\varepsilon^{-1} x_2 = \\varepsilon^{-1}$, for a solution of $\\mathbf{x} = (0, 1)^T$.\n",
    "\n",
    "In this case, a poor choice of numerical algorithm means that perturbing the coefficients of the matrix by $\\varepsilon \\ll 1$ leads to a change in the solution of $\\mathcal{O}(1)$. These types of algorithms are called *poorly conditioned*. We quantify this using a *condition number* $\\kappa$. For a given operation, $\\kappa$ should bound the amount that uncertainty or inaccuracy in the input is *magnified* by a given operation. A condition number $\\kappa \\sim 10$ is fine; a condition number of $\\kappa \\sim 10^{16}$ means that the limitations of floating point arithmetic alone will be magnified by this one operation so that even the first significant figure might be wrong."
   ]
  },
  {
   "cell_type": "markdown",
   "metadata": {},
   "source": [
    "The particular problem for relativistic hydrodynamics is that there are regimes where the conservative to primitive algorithm is poorly conditioned. This is particularly an issue at low temperatures."
   ]
  },
  {
   "cell_type": "code",
   "execution_count": null,
   "metadata": {},
   "outputs": [],
   "source": [
    "rho = 1\n",
    "v = 0.1\n",
    "W = 1 / np.sqrt(1 - v**2)\n",
    "D = rho * W\n",
    "epsilons = np.logspace(-6, 1)\n",
    "d_eps_in = 1e-8\n",
    "kappa_tau_eps = np.zeros_like(epsilons)\n",
    "for i, epsilon in enumerate(epsilons):\n",
    "    p = p_eos(rho, epsilon)\n",
    "    h = 1 + epsilon + p / rho\n",
    "    tau = rho * h * W**2 - p - D\n",
    "    p_new = p_eos(rho, epsilon+d_eps_in)\n",
    "    h_new = 1 + epsilon+d_eps_in + p_new / rho\n",
    "    S_new = rho * h_new * W**2 * v\n",
    "    tau_new = rho * h_new * W**2 - p_new - D\n",
    "    d_tau = abs(tau_new - tau)\n",
    "    rho_new, v_new, p_new = c2p(np.array([D, S_new, tau_new]))\n",
    "    epsilon_new = h_eos(rho_new, p_new) - p_new / rho_new - 1\n",
    "    d_eps_out = abs(epsilon_new - epsilon)\n",
    "    kappa_tau_eps[i] = tau / epsilon * d_eps_out / d_tau\n",
    "\n",
    "plt.figure()\n",
    "plt.loglog(epsilons, kappa_tau_eps)\n",
    "plt.xlabel(r\"$\\epsilon$\")\n",
    "plt.ylabel(r\"$\\kappa_{\\tau \\to \\epsilon}$\")\n",
    "plt.show()"
   ]
  },
  {
   "cell_type": "markdown",
   "metadata": {},
   "source": [
    "The values of the condition number here are not catastrophic, but for \"real\" equations of state the values are much worse, and the trend the same."
   ]
  }
 ],
 "metadata": {
  "kernelspec": {
   "display_name": "math-computing",
   "language": "python",
   "name": "python3"
  },
  "language_info": {
   "codemirror_mode": {
    "name": "ipython",
    "version": 3
   },
   "file_extension": ".py",
   "mimetype": "text/x-python",
   "name": "python",
   "nbconvert_exporter": "python",
   "pygments_lexer": "ipython3",
   "version": "3.13.2"
  }
 },
 "nbformat": 4,
 "nbformat_minor": 2
}
